{
 "cells": [
  {
   "cell_type": "code",
   "execution_count": 7,
   "id": "5ea6f447-2a72-4cc5-86d1-0907423a1c09",
   "metadata": {},
   "outputs": [
    {
     "ename": "ImportError",
     "evalue": "attempted relative import with no known parent package",
     "output_type": "error",
     "traceback": [
      "\u001b[31m---------------------------------------------------------------------------\u001b[39m",
      "\u001b[31mImportError\u001b[39m                               Traceback (most recent call last)",
      "\u001b[36mCell\u001b[39m\u001b[36m \u001b[39m\u001b[32mIn[7]\u001b[39m\u001b[32m, line 2\u001b[39m\n\u001b[32m      1\u001b[39m \u001b[38;5;28;01mimport\u001b[39;00m\u001b[38;5;250m \u001b[39m\u001b[34;01mpandas\u001b[39;00m\u001b[38;5;250m \u001b[39m\u001b[38;5;28;01mas\u001b[39;00m\u001b[38;5;250m \u001b[39m\u001b[34;01mpd\u001b[39;00m\n\u001b[32m----> \u001b[39m\u001b[32m2\u001b[39m \u001b[38;5;28;01mfrom\u001b[39;00m\u001b[38;5;250m \u001b[39m\u001b[34;01m.\u001b[39;00m\u001b[34;01m.\u001b[39;00m\u001b[34;01mconfig\u001b[39;00m\u001b[38;5;250m \u001b[39m\u001b[38;5;28;01mimport\u001b[39;00m numeric_cols,category_cols,target_col\n",
      "\u001b[31mImportError\u001b[39m: attempted relative import with no known parent package"
     ]
    }
   ],
   "source": [
    "import pandas as pd\n",
    "from ..config import numeric_cols,category_cols,target_col"
   ]
  },
  {
   "cell_type": "markdown",
   "id": "e6ebb5e9-44ac-4be6-8969-865043c6a008",
   "metadata": {},
   "source": [
    "* 數據包含10個數字屬性和8個分類屬性\n",
    "* 'Revenue' 屬性將作為標籤 1 代表會訂房 0 代表不會\n",
    "* 使用訓練資料 train.csv 建立模型，預測 test.csv 是否會訂房\n",
    "* 屬性說明：\n",
    "\t- Administrative：管理頁面瀏覽數量\n",
    "\t- Administrative_Duration：管理頁面瀏覽時間\n",
    "\t- Informational：資訊頁面瀏覽數量\n",
    "\t- Informational_Duration：資訊頁面瀏覽時間\n",
    "\t- ProductRelated：產品頁面瀏覽數量\n",
    "\t- ProductRelated_Duration：產品頁面瀏覽時間\n",
    "\t- BounceRates：跳出率\n",
    "\t- ExitRates：退出率\n",
    "\t- PageValues：頁面價值\n",
    "\t- SpecialDay：特殊日期（例如聖誕節，情人節）接近程度\n",
    "\t- Month：訪問月份\n",
    "\t- OperatingSystems：作業系統\n",
    "\t- Browser：瀏覽器\n",
    "\t- Region：地區\n",
    "\t- TrafficType：流量來源\n",
    "\t- VisitorType：訪客類型\n",
    "\t- Weekend：訪問時間是否為週末\n",
    "\t- Revenue：是否訂房\n"
   ]
  },
  {
   "cell_type": "code",
   "execution_count": null,
   "id": "07a1d59e-9ca3-4250-90ec-7ec0bf1a42a2",
   "metadata": {},
   "outputs": [],
   "source": [
    "numeric_cols = ['Administrative','Administrative_Duration',\n",
    "                'Informational','Informational_Duration','ProductRelated',\n",
    "               'ProductRelated_Duration','BounceRates','ExitRates','PageValues','SpecialDay']\n",
    "category_cols = ['Month','OperatingSystems','Browser','Region','TrafficType','VisitorType','Weekend']\n",
    "target_col = 'Revenue'"
   ]
  },
  {
   "cell_type": "code",
   "execution_count": null,
   "id": "b3dc3c5b-cdb6-4430-96d0-cd299854bef8",
   "metadata": {},
   "outputs": [],
   "source": [
    "data = pd.read_csv(\"../data/train.csv\")\n",
    "data"
   ]
  }
 ],
 "metadata": {
  "kernelspec": {
   "display_name": "Python 3 (ipykernel)",
   "language": "python",
   "name": "python3"
  },
  "language_info": {
   "codemirror_mode": {
    "name": "ipython",
    "version": 3
   },
   "file_extension": ".py",
   "mimetype": "text/x-python",
   "name": "python",
   "nbconvert_exporter": "python",
   "pygments_lexer": "ipython3",
   "version": "3.11.9"
  }
 },
 "nbformat": 4,
 "nbformat_minor": 5
}
